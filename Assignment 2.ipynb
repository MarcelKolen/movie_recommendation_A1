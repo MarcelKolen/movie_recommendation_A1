{
 "cells": [
  {
   "cell_type": "code",
   "execution_count": 78,
   "metadata": {},
   "outputs": [],
   "source": [
    "def format_add(format_list, input_data, target_data):\n",
    "    ### Constructs a dictionary using input_data and \n",
    "    ### the format_list as the dictionary format and \n",
    "    ### appends the dictionary to the target data.\n",
    "    \n",
    "    appender_dict = {}\n",
    "    \n",
    "    for count, item in enumerate(format_list):\n",
    "        try:\n",
    "            appender_dict.update({item: input_data[count]})\n",
    "        except IndexError:\n",
    "            appender_dict.update({item: None})\n",
    "            \n",
    "    target_data.append(appender_dict)\n",
    "\n",
    "def build_file(format_list, file_path, delimiter):\n",
    "    ### Reads a file and converts the delimiter separated data \n",
    "    ### in the file, based on the format provided by format_list, \n",
    "    ### into a dictionary list.\n",
    "    \n",
    "    new_list = []\n",
    "    \n",
    "    with open(file_path) as file:\n",
    "        print(f\"Unpacking: '{file_path}'\")\n",
    "    \n",
    "        for line in file:\n",
    "            stripped_line = line.strip().split(delimiter)\n",
    "            format_add(format_list, stripped_line, new_list)\n",
    "        \n",
    "    print(\"Unpacked succesfully\")\n",
    "    \n",
    "    return new_list"
   ]
  },
  {
   "cell_type": "code",
   "execution_count": 79,
   "metadata": {
    "scrolled": true
   },
   "outputs": [
    {
     "name": "stdout",
     "output_type": "stream",
     "text": [
      "Unpacking: './ml-1m/users.dat'\n",
      "Unpacked succesfully\n",
      "Unpacking: './ml-1m/movies.dat'\n",
      "Unpacked succesfully\n",
      "Unpacking: './ml-1m/ratings.dat'\n",
      "Unpacked succesfully\n"
     ]
    }
   ],
   "source": [
    "file_path_users = \"./ml-1m/users.dat\"\n",
    "file_path_movies = \"./ml-1m/movies.dat\"\n",
    "file_path_ratings = \"./ml-1m/ratings.dat\"\n",
    "\n",
    "user_data = build_file(\n",
    "    [\"uid\", \"gender\", \"age\", \"occupation\", \"zip-code\"],\n",
    "    file_path_users,\n",
    "    \"::\"\n",
    ")\n",
    "\n",
    "movie_data = build_file(\n",
    "    [\"mid\", \"title\", \"genre\"],\n",
    "    file_path_movies,\n",
    "    \"::\"\n",
    ")\n",
    "\n",
    "rating_data = build_file(\n",
    "    [\"uid\", \"mid\", \"rating\", \"timestamp\"],\n",
    "    file_path_ratings,\n",
    "    \"::\"\n",
    ")"
   ]
  },
  {
   "cell_type": "code",
   "execution_count": 80,
   "metadata": {
    "scrolled": true
   },
   "outputs": [],
   "source": [
    "from numpy import mean\n",
    "\n",
    "# Calculate the mean over a comprehenced list based \n",
    "# on the rating fields in rating_data to get a global mean. \n",
    "all_rating_mean = mean([int(item[\"rating\"]) for item in rating_data])"
   ]
  },
  {
   "cell_type": "code",
   "execution_count": 81,
   "metadata": {},
   "outputs": [],
   "source": [
    "from numpy import mean, isnan\n",
    "\n",
    "def bind_mean(bind_data_source, bind_data_target, target_key, target_mean, default=None):\n",
    "    ### Creates a dictionary of target_keys with their respective means. \n",
    "    ### If the target key does not exist in the source_data, then a default value will be set.\n",
    "    return {l_obj[target_key]: x if not isnan(x := mean([int(item[target_mean]) for item in filter(lambda _r : _r[target_key] == l_obj[target_key], bind_data_source)])) else default for l_obj in bind_data_target}"
   ]
  },
  {
   "cell_type": "code",
   "execution_count": 82,
   "metadata": {
    "scrolled": true
   },
   "outputs": [],
   "source": [
    "# Generate a dictionary of user_ids with the corresponding means of ratings that a user has given. \n",
    "# If the user does not exist in the ratings file, the global average rating is filled in instead.\n",
    "user_rating_mean = bind_mean(rating_data, user_data, \"uid\", \"rating\", all_rating_mean)\n",
    "\n",
    "# Generate a dictionary of movie_ids with the corresponding means of ratings that a movie has received. \n",
    "# If the movie does not exist in the ratings file, the global average rating is filled in instead.\n",
    "movie_rating_mean = bind_mean(rating_data, movie_data, \"mid\", \"rating\", all_rating_mean)"
   ]
  }
 ],
 "metadata": {
  "kernelspec": {
   "display_name": "Python 3",
   "language": "python",
   "name": "python3"
  },
  "language_info": {
   "codemirror_mode": {
    "name": "ipython",
    "version": 3
   },
   "file_extension": ".py",
   "mimetype": "text/x-python",
   "name": "python",
   "nbconvert_exporter": "python",
   "pygments_lexer": "ipython3",
   "version": "3.8.8"
  }
 },
 "nbformat": 4,
 "nbformat_minor": 2
}
